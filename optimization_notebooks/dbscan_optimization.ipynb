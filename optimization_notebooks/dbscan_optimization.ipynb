{
 "cells": [
  {
   "cell_type": "code",
   "execution_count": 14,
   "metadata": {},
   "outputs": [],
   "source": [
    "import pandas as pd\n",
    "import numpy as np\n",
    "import folium\n",
    "from sklearn.cluster import DBSCAN"
   ]
  },
  {
   "cell_type": "code",
   "execution_count": 24,
   "metadata": {},
   "outputs": [
    {
     "name": "stderr",
     "output_type": "stream",
     "text": [
      "C:\\Users\\souna\\AppData\\Local\\Temp\\ipykernel_22484\\830158957.py:2: DtypeWarning: Columns (21,28) have mixed types. Specify dtype option on import or set low_memory=False.\n",
      "  data = pd.read_csv(\"data/interventions_bxl.parquet.csv\").drop_duplicates()\n"
     ]
    }
   ],
   "source": [
    "# Load the dataset\n",
    "data = pd.read_csv(\"data/interventions_bxl.parquet.csv\").drop_duplicates()\n",
    "\n",
    "# For Permanence Locations\n",
    "data['latitude_permanence']= data['latitude_permanence'].apply(lambda x: float(str(x)[:2] + '.' + str(x)[2:]))\n",
    "data['longitude_permanence']= data['longitude_permanence'].apply(lambda x: float(str(x)[:1] + '.' + str(x)[1:]))\n",
    "\n",
    "# For Intervention Locations\n",
    "data['latitude_intervention']= data['latitude_intervention'].astype(int).apply(lambda x: float(str(x)[:2] + '.' + str(x)[2:]))\n",
    "data['longitude_intervention']= data['longitude_intervention'].astype(int).apply(lambda x: float(str(x)[:1] + '.' + str(x)[1:]))\n",
    "\n",
    "\n",
    "# Filter the dataset to only include relevant columns\n",
    "relevant_data = data[['latitude_permanence', 'longitude_permanence', \n",
    "                      'latitude_intervention', 'longitude_intervention', \n",
    "                      'vector_type', 'waiting_time']].dropna().sample(2000)\n"
   ]
  },
  {
   "cell_type": "code",
   "execution_count": 25,
   "metadata": {},
   "outputs": [],
   "source": [
    "# Concatenate permanence and intervention locations horizontally\n",
    "locations = pd.concat([relevant_data[['latitude_permanence', 'longitude_permanence']],\n",
    "                       relevant_data[['latitude_intervention', 'longitude_intervention']]], axis=1)\n",
    "\n",
    "# Convert DataFrame to numpy array\n",
    "X = locations.values\n"
   ]
  },
  {
   "cell_type": "code",
   "execution_count": 37,
   "metadata": {},
   "outputs": [],
   "source": [
    "# Compute epsilon using a heuristic based on the distance between points\n",
    "min_pts = 5  # Minimum number of points in a cluster\n",
    "epsilon = np.sqrt(2) * np.std(X)  # Heuristic for epsilon\n",
    "\n",
    "# Apply DBSCAN clustering algorithm\n",
    "dbscan = DBSCAN(eps=0.01, min_samples=10, metric='euclidean').fit(X)\n",
    "\n",
    "# Get the cluster labels\n",
    "labels = dbscan.labels_\n",
    "\n",
    "# Find the optimal AED locations as the centroids of the clusters with the lowest waiting time\n",
    "unique_labels = np.unique(labels)\n",
    "aed_locations = []\n",
    "for label in unique_labels:\n",
    "    if label != -1:  # Ignore noise points\n",
    "        cluster_points = X[labels == label]\n",
    "        cluster_waiting_times = relevant_data.iloc[labels == label]['waiting_time']\n",
    "        weighted_waiting_time = np.sum(cluster_waiting_times) / len(cluster_waiting_times)\n",
    "        centroid = np.mean(cluster_points, axis=0)\n",
    "        aed_locations.append((centroid, weighted_waiting_time))\n",
    "\n",
    "# Sort AED locations based on weighted waiting time\n",
    "aed_locations.sort(key=lambda x: x[1])\n",
    "\n",
    "# Center coordinates for Brussels\n",
    "brussels_center = (50.8503, 4.3517)\n",
    "\n",
    "# Initialize the map\n",
    "m = folium.Map(location=brussels_center, zoom_start=12)\n",
    "\n",
    "# Add markers for AED locations with custom icon\n",
    "for i, (location, _) in enumerate(aed_locations[:5]):\n",
    "    folium.Marker(location=(location[0], location[1]), popup=f\"AED Location {i+1}\",\n",
    "                  icon=folium.CustomIcon('images/Aed_logo.jpg',icon_size=(32, 32))).add_to(m)\n",
    "\n",
    "# Save the map to an HTML file\n",
    "m.save(\"aed_locations_map.html\")"
   ]
  },
  {
   "cell_type": "code",
   "execution_count": 31,
   "metadata": {},
   "outputs": [
    {
     "name": "stdout",
     "output_type": "stream",
     "text": [
      "Unique Cluster Labels: [0]\n",
      "AED Locations: [(array([50.84569665,  4.3615751 , 50.84582672,  4.35867038]), 17.835)]\n"
     ]
    }
   ],
   "source": [
    "print(\"Unique Cluster Labels:\", unique_labels)\n",
    "print(\"AED Locations:\", aed_locations)"
   ]
  }
 ],
 "metadata": {
  "kernelspec": {
   "display_name": "Python 3",
   "language": "python",
   "name": "python3"
  },
  "language_info": {
   "codemirror_mode": {
    "name": "ipython",
    "version": 3
   },
   "file_extension": ".py",
   "mimetype": "text/x-python",
   "name": "python",
   "nbconvert_exporter": "python",
   "pygments_lexer": "ipython3",
   "version": "3.11.6"
  }
 },
 "nbformat": 4,
 "nbformat_minor": 2
}
