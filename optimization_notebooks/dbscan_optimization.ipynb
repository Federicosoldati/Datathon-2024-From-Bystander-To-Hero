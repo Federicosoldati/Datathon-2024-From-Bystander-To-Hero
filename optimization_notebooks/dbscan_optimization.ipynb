{
 "cells": [
  {
   "cell_type": "code",
   "execution_count": 2,
   "metadata": {},
   "outputs": [],
   "source": [
    "import pandas as pd\n",
    "import numpy as np\n",
    "import folium\n",
    "from sklearn.cluster import DBSCAN"
   ]
  },
  {
   "cell_type": "code",
   "execution_count": 23,
   "metadata": {},
   "outputs": [
    {
     "name": "stderr",
     "output_type": "stream",
     "text": [
      "C:\\Users\\souna\\AppData\\Local\\Temp\\ipykernel_18932\\2716512536.py:2: DtypeWarning: Columns (21,28) have mixed types. Specify dtype option on import or set low_memory=False.\n",
      "  data = pd.read_csv(\"../data/interventions_bxl.parquet.csv\").drop_duplicates()\n"
     ]
    }
   ],
   "source": [
    "# Load the dataset\n",
    "data = pd.read_csv(\"../data/interventions_bxl.parquet.csv\").drop_duplicates()\n",
    "\n",
    "# For Permanence Locations\n",
    "data['latitude_permanence']= data['latitude_permanence'].apply(lambda x: float(str(x)[:2] + '.' + str(x)[2:]))\n",
    "data['longitude_permanence']= data['longitude_permanence'].apply(lambda x: float(str(x)[:1] + '.' + str(x)[1:]))\n",
    "\n",
    "# For Intervention Locations\n",
    "data['latitude_intervention']= data['latitude_intervention'].astype(int).apply(lambda x: float(str(x)[:2] + '.' + str(x)[2:]))\n",
    "data['longitude_intervention']= data['longitude_intervention'].astype(int).apply(lambda x: float(str(x)[:1] + '.' + str(x)[1:]))\n",
    "\n",
    "\n",
    "# Filter the dataset to only include relevant columns\n",
    "relevant_data = data[['latitude_permanence', 'longitude_permanence', \n",
    "                      'latitude_intervention', 'longitude_intervention', \n",
    "                      'vector_type', 'waiting_time']].dropna()\n",
    "\n",
    "\n",
    "aed_bxl = pd.read_csv('C:/Users/souna/Desktop/x/Datathon-2024-From-Bystander-To-Hero/data/aed_bxl.parquet.csv')\n"
   ]
  },
  {
   "cell_type": "code",
   "execution_count": 24,
   "metadata": {},
   "outputs": [],
   "source": [
    "# Concatenate permanence and intervention locations horizontally\n",
    "locations = pd.concat([relevant_data[['latitude_permanence', 'longitude_permanence']],\n",
    "                       relevant_data[['latitude_intervention', 'longitude_intervention']]], axis=1)\n",
    "\n",
    "# Convert DataFrame to numpy array\n",
    "X = locations.values"
   ]
  },
  {
   "cell_type": "code",
   "execution_count": 53,
   "metadata": {},
   "outputs": [],
   "source": [
    "# Compute epsilon using a heuristic based on the distance between points\n",
    "min_pts = 5  # Minimum number of points in a cluster\n",
    "epsilon = np.sqrt(2) * np.std(X)  # Heuristic for epsilon\n",
    "\n",
    "# Apply DBSCAN clustering algorithm\n",
    "dbscan = DBSCAN(eps=0.0001, min_samples=10, metric='euclidean').fit(X)\n",
    "\n",
    "# Get the cluster labels\n",
    "labels = dbscan.labels_\n",
    "\n",
    "# Find the optimal AED locations as the centroids of the clusters with the lowest waiting time\n",
    "unique_labels = np.unique(labels)\n",
    "aed_locations = []\n",
    "for label in unique_labels:\n",
    "    if label != -1:  # Ignore noise points\n",
    "        cluster_points = X[labels == label]\n",
    "        cluster_waiting_times = relevant_data.iloc[labels == label]['waiting_time']\n",
    "        weighted_waiting_time = np.sum(cluster_waiting_times) / len(cluster_waiting_times)\n",
    "        centroid = np.mean(cluster_points, axis=0)\n",
    "        aed_locations.append((centroid, weighted_waiting_time))\n",
    "\n",
    "# Sort AED locations based on weighted waiting time\n",
    "aed_locations.sort(key=lambda x: x[1])\n",
    "\n",
    "# Center coordinates for Brussels\n",
    "brussels_center = (50.8503, 4.3517)\n",
    "\n",
    "# Initialize the map\n",
    "m = folium.Map(location=brussels_center)\n",
    "\n",
    "# Add markers for AED locations with custom icon\n",
    "unique_locations = set()  # Keep track of unique locations added\n",
    "locations_added = 0  # Track the number of unique locations added\n",
    "for locations, _ in aed_locations:\n",
    "    for i in range(0, len(locations), 2):\n",
    "        lat, lon = locations[i], locations[i + 1]\n",
    "        if (lat, lon) in zip(aed_bxl['latitude'], aed_bxl['longitude']):\n",
    "            print(f\"Skipping location {lat}, {lon} as it's already in the dataframe\")\n",
    "            continue  # Skip this location if it's already present in the dataframe\n",
    "        if (lat, lon) in unique_locations:\n",
    "            continue  # Skip this location if it's already added\n",
    "        folium.Marker(location=(lat, lon), popup=f\"AED Location {locations_added + 1}\",\n",
    "                      icon=folium.CustomIcon('../images/Aed_logo.jpg', icon_size=(32, 32))).add_to(m)\n",
    "        unique_locations.add((lat, lon))\n",
    "        locations_added += 1\n",
    "        if locations_added == 5:  # Stop after adding 5 unique locations\n",
    "            break\n",
    "    if locations_added == 5:  # Stop outer loop after adding 5 unique locations\n",
    "        break\n",
    "\n",
    "\n",
    "# Save the map to an HTML file\n",
    "m.save(\"dbscan_aed_locations_map.html\")"
   ]
  }
 ],
 "metadata": {
  "kernelspec": {
   "display_name": "Python 3",
   "language": "python",
   "name": "python3"
  },
  "language_info": {
   "codemirror_mode": {
    "name": "ipython",
    "version": 3
   },
   "file_extension": ".py",
   "mimetype": "text/x-python",
   "name": "python",
   "nbconvert_exporter": "python",
   "pygments_lexer": "ipython3",
   "version": "3.11.6"
  }
 },
 "nbformat": 4,
 "nbformat_minor": 2
}
